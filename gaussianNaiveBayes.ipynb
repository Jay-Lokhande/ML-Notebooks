{
  "nbformat": 4,
  "nbformat_minor": 0,
  "metadata": {
    "colab": {
      "provenance": []
    },
    "kernelspec": {
      "name": "python3",
      "display_name": "Python 3"
    },
    "language_info": {
      "name": "python"
    }
  },
  "cells": [
    {
      "cell_type": "code",
      "source": [
        "# install openml library\n",
        "!pip install openml\n",
        "\n",
        "# Importing openml library for dataset\n",
        "import openml\n",
        "\n",
        "# Importing matplotlib.pyplot library for plotting graphs, figures, etc....\n",
        "import matplotlib.pyplot as plt\n",
        "\n",
        "# importing library for split the dataset in train and test\n",
        "from sklearn.model_selection import train_test_split\n",
        "\n",
        "# Importing in-built scaler function\n",
        "from sklearn.preprocessing import MinMaxScaler\n",
        "\n",
        "# Importing numpy or numeric computation\n",
        "import numpy as np\n",
        "\n",
        "# Importing pandas for data manupulation and anaysis\n",
        "import pandas as pd\n",
        "\n",
        "# Importing seaborn for Statistical Graphics\n",
        "import seaborn as sns\n",
        "\n",
        "from sklearn.metrics import accuracy_score, precision_score, recall_score, confusion_matrix, classification_report"
      ],
      "metadata": {
        "colab": {
          "base_uri": "https://localhost:8080/"
        },
        "id": "Ddy6qbc0zBOi",
        "outputId": "527dc160-3a17-44ca-dbb4-62714a2c7f94"
      },
      "execution_count": 1,
      "outputs": [
        {
          "output_type": "stream",
          "name": "stdout",
          "text": [
            "Collecting openml\n",
            "  Downloading openml-0.15.1-py3-none-any.whl.metadata (10 kB)\n",
            "Collecting liac-arff>=2.4.0 (from openml)\n",
            "  Downloading liac-arff-2.5.0.tar.gz (13 kB)\n",
            "  Preparing metadata (setup.py) ... \u001b[?25l\u001b[?25hdone\n",
            "Collecting xmltodict (from openml)\n",
            "  Downloading xmltodict-0.14.2-py2.py3-none-any.whl.metadata (8.0 kB)\n",
            "Requirement already satisfied: requests in /usr/local/lib/python3.12/dist-packages (from openml) (2.32.4)\n",
            "Requirement already satisfied: scikit-learn>=0.18 in /usr/local/lib/python3.12/dist-packages (from openml) (1.6.1)\n",
            "Requirement already satisfied: python-dateutil in /usr/local/lib/python3.12/dist-packages (from openml) (2.9.0.post0)\n",
            "Requirement already satisfied: pandas>=1.0.0 in /usr/local/lib/python3.12/dist-packages (from openml) (2.2.2)\n",
            "Requirement already satisfied: scipy>=0.13.3 in /usr/local/lib/python3.12/dist-packages (from openml) (1.16.1)\n",
            "Requirement already satisfied: numpy>=1.6.2 in /usr/local/lib/python3.12/dist-packages (from openml) (2.0.2)\n",
            "Collecting minio (from openml)\n",
            "  Downloading minio-7.2.16-py3-none-any.whl.metadata (6.5 kB)\n",
            "Requirement already satisfied: pyarrow in /usr/local/lib/python3.12/dist-packages (from openml) (18.1.0)\n",
            "Requirement already satisfied: tqdm in /usr/local/lib/python3.12/dist-packages (from openml) (4.67.1)\n",
            "Requirement already satisfied: packaging in /usr/local/lib/python3.12/dist-packages (from openml) (25.0)\n",
            "Requirement already satisfied: pytz>=2020.1 in /usr/local/lib/python3.12/dist-packages (from pandas>=1.0.0->openml) (2025.2)\n",
            "Requirement already satisfied: tzdata>=2022.7 in /usr/local/lib/python3.12/dist-packages (from pandas>=1.0.0->openml) (2025.2)\n",
            "Requirement already satisfied: six>=1.5 in /usr/local/lib/python3.12/dist-packages (from python-dateutil->openml) (1.17.0)\n",
            "Requirement already satisfied: joblib>=1.2.0 in /usr/local/lib/python3.12/dist-packages (from scikit-learn>=0.18->openml) (1.5.1)\n",
            "Requirement already satisfied: threadpoolctl>=3.1.0 in /usr/local/lib/python3.12/dist-packages (from scikit-learn>=0.18->openml) (3.6.0)\n",
            "Requirement already satisfied: argon2-cffi in /usr/local/lib/python3.12/dist-packages (from minio->openml) (25.1.0)\n",
            "Requirement already satisfied: certifi in /usr/local/lib/python3.12/dist-packages (from minio->openml) (2025.8.3)\n",
            "Collecting pycryptodome (from minio->openml)\n",
            "  Downloading pycryptodome-3.23.0-cp37-abi3-manylinux_2_17_x86_64.manylinux2014_x86_64.whl.metadata (3.4 kB)\n",
            "Requirement already satisfied: typing-extensions in /usr/local/lib/python3.12/dist-packages (from minio->openml) (4.15.0)\n",
            "Requirement already satisfied: urllib3 in /usr/local/lib/python3.12/dist-packages (from minio->openml) (2.5.0)\n",
            "Requirement already satisfied: charset_normalizer<4,>=2 in /usr/local/lib/python3.12/dist-packages (from requests->openml) (3.4.3)\n",
            "Requirement already satisfied: idna<4,>=2.5 in /usr/local/lib/python3.12/dist-packages (from requests->openml) (3.10)\n",
            "Requirement already satisfied: argon2-cffi-bindings in /usr/local/lib/python3.12/dist-packages (from argon2-cffi->minio->openml) (25.1.0)\n",
            "Requirement already satisfied: cffi>=1.0.1 in /usr/local/lib/python3.12/dist-packages (from argon2-cffi-bindings->argon2-cffi->minio->openml) (1.17.1)\n",
            "Requirement already satisfied: pycparser in /usr/local/lib/python3.12/dist-packages (from cffi>=1.0.1->argon2-cffi-bindings->argon2-cffi->minio->openml) (2.22)\n",
            "Downloading openml-0.15.1-py3-none-any.whl (160 kB)\n",
            "\u001b[2K   \u001b[90m━━━━━━━━━━━━━━━━━━━━━━━━━━━━━━━━━━━━━━━━\u001b[0m \u001b[32m160.4/160.4 kB\u001b[0m \u001b[31m5.7 MB/s\u001b[0m eta \u001b[36m0:00:00\u001b[0m\n",
            "\u001b[?25hDownloading minio-7.2.16-py3-none-any.whl (95 kB)\n",
            "\u001b[2K   \u001b[90m━━━━━━━━━━━━━━━━━━━━━━━━━━━━━━━━━━━━━━━━\u001b[0m \u001b[32m95.8/95.8 kB\u001b[0m \u001b[31m5.9 MB/s\u001b[0m eta \u001b[36m0:00:00\u001b[0m\n",
            "\u001b[?25hDownloading xmltodict-0.14.2-py2.py3-none-any.whl (10.0 kB)\n",
            "Downloading pycryptodome-3.23.0-cp37-abi3-manylinux_2_17_x86_64.manylinux2014_x86_64.whl (2.3 MB)\n",
            "\u001b[2K   \u001b[90m━━━━━━━━━━━━━━━━━━━━━━━━━━━━━━━━━━━━━━━━\u001b[0m \u001b[32m2.3/2.3 MB\u001b[0m \u001b[31m28.3 MB/s\u001b[0m eta \u001b[36m0:00:00\u001b[0m\n",
            "\u001b[?25hBuilding wheels for collected packages: liac-arff\n",
            "  Building wheel for liac-arff (setup.py) ... \u001b[?25l\u001b[?25hdone\n",
            "  Created wheel for liac-arff: filename=liac_arff-2.5.0-py3-none-any.whl size=11717 sha256=ee84e9eba53aa8663dac88853003858036266ca1652e5974aa52478156dcce1c\n",
            "  Stored in directory: /root/.cache/pip/wheels/a9/ac/cf/c2919807a5c623926d217c0a18eb5b457e5c19d242c3b5963a\n",
            "Successfully built liac-arff\n",
            "Installing collected packages: xmltodict, pycryptodome, liac-arff, minio, openml\n",
            "Successfully installed liac-arff-2.5.0 minio-7.2.16 openml-0.15.1 pycryptodome-3.23.0 xmltodict-0.14.2\n"
          ]
        }
      ]
    },
    {
      "cell_type": "markdown",
      "source": [
        "### <font color = \"orange\"> Q1. Load the texture dataset from OpenML: https://www.openml.org/search?type=data&sort=version&status=any&order=asc&exact_name=texture&id=40499"
      ],
      "metadata": {
        "id": "WFKNKFPey8AG"
      }
    },
    {
      "cell_type": "code",
      "source": [
        "# fetching the dataset rom the openml\n",
        "dataset = openml.datasets.get_dataset(40499)\n",
        "\n",
        "# fetching the dataset into four variables\n",
        "X, y, categories, colNames = dataset.get_data(\n",
        "    # specifying format for the datset as pandas dataframe\n",
        "    dataset_format=\"dataframe\",\n",
        "    # defining the target column which is the variable we want to predict\n",
        "    target=dataset.default_target_attribute\n",
        ")\n",
        "\n",
        "# printing the name of datset\n",
        "print(\"Dataset Name: \", dataset.name)\n",
        "# printing some view of the features\n",
        "print(\"Some view of Features (X): \")\n",
        "print(X.head())\n",
        "# printing some view of the target\n",
        "print(\"\\nSome view of Target (y): \")\n",
        "print(y.head())"
      ],
      "metadata": {
        "colab": {
          "base_uri": "https://localhost:8080/"
        },
        "id": "qsV_mYaVxxnH",
        "outputId": "0a3f1695-8c74-4e82-836d-09028064fefd"
      },
      "execution_count": 2,
      "outputs": [
        {
          "output_type": "stream",
          "name": "stdout",
          "text": [
            "Dataset Name:  texture\n",
            "Some view of Features (X): \n",
            "      V1     V2     V3     V4     V5     V6     V7     V8     V9    V10  ...  \\\n",
            "0 -1.223 -0.798 -0.867 -0.639 -0.545 -0.412 -0.795 -0.629 -0.547 -0.868  ...   \n",
            "1 -1.410 -1.029 -1.013 -0.895 -0.762 -0.676 -1.043 -0.851 -0.775 -1.037  ...   \n",
            "2 -1.107 -0.649 -0.629 -0.492 -0.367 -0.298 -0.682 -0.478 -0.395 -0.681  ...   \n",
            "3 -1.270 -0.855 -0.958 -0.707 -0.619 -0.469 -0.872 -0.705 -0.620 -0.988  ...   \n",
            "4 -1.331 -0.862 -0.761 -0.689 -0.498 -0.361 -0.857 -0.600 -0.496 -0.779  ...   \n",
            "\n",
            "     V31    V32    V33    V34    V35    V36    V37    V38    V39    V40  \n",
            "0 -1.223 -0.766 -0.555 -0.714 -0.545 -0.587 -0.871 -0.620 -0.568 -0.607  \n",
            "1 -1.410 -0.919 -0.770 -0.847 -0.663 -0.723 -1.013 -0.748 -0.698 -0.817  \n",
            "2 -1.107 -0.692 -0.445 -0.588 -0.371 -0.368 -0.746 -0.457 -0.379 -0.469  \n",
            "3 -1.270 -0.829 -0.719 -0.774 -0.617 -0.688 -0.937 -0.693 -0.657 -0.779  \n",
            "4 -1.331 -0.861 -0.571 -0.784 -0.545 -0.562 -0.952 -0.642 -0.578 -0.648  \n",
            "\n",
            "[5 rows x 40 columns]\n",
            "\n",
            "Some view of Target (y): \n",
            "0    5\n",
            "1    5\n",
            "2    5\n",
            "3    5\n",
            "4    5\n",
            "Name: Class, dtype: category\n",
            "Categories (11, object): ['1' < '2' < '3' < '4' ... '8' < '9' < '10' < '11']\n"
          ]
        }
      ]
    },
    {
      "cell_type": "markdown",
      "source": [
        "### <font color = \"orange\"> Q2. Show the class distribution of the dataset and state whether the dataset is well balanced or not."
      ],
      "metadata": {
        "id": "pTrjDttiy-5j"
      }
    },
    {
      "cell_type": "code",
      "source": [
        "# It is the count of frequency of each unique value in target variable y\n",
        "counts = y.value_counts()\n",
        "\n",
        "# printing that counts\n",
        "print(\"Distribution: \")\n",
        "print(counts)\n",
        "\n",
        "# creating a new figure of size 6x4 inches\n",
        "plt.figure(figsize=(6, 4))\n",
        "\n",
        "# as a bar chart\n",
        "counts.plot(kind='bar')\n",
        "\n",
        "# x-axis label\n",
        "plt.xlabel(\"Class\")\n",
        "\n",
        "# y-axis label\n",
        "plt.ylabel(\"Samples Count\")\n",
        "\n",
        "# title of the bar chart\n",
        "plt.title(\"Distribution in Dataset\")\n",
        "\n",
        "# displaying the bar chart\n",
        "plt.show()"
      ],
      "metadata": {
        "colab": {
          "base_uri": "https://localhost:8080/",
          "height": 657
        },
        "id": "2xop1CJuyJfH",
        "outputId": "440d7ae9-4413-4a6c-a009-ea85e3084c2c"
      },
      "execution_count": 3,
      "outputs": [
        {
          "output_type": "stream",
          "name": "stdout",
          "text": [
            "Distribution: \n",
            "Class\n",
            "1     500\n",
            "2     500\n",
            "3     500\n",
            "4     500\n",
            "5     500\n",
            "6     500\n",
            "7     500\n",
            "8     500\n",
            "9     500\n",
            "10    500\n",
            "11    500\n",
            "Name: count, dtype: int64\n"
          ]
        },
        {
          "output_type": "display_data",
          "data": {
            "text/plain": [
              "<Figure size 600x400 with 1 Axes>"
            ],
            "image/png": "[encoded data removed]"
          },
          "metadata": {}
        }
      ]
    },
    {
      "cell_type": "markdown",
      "source": [
        "### <font color = \"orange\"> Q3. Split the dataset into training and test sets (80%-20%)"
      ],
      "metadata": {
        "id": "zfL5Ky3n0kap"
      }
    },
    {
      "cell_type": "code",
      "source": [
        "# splitting dataset into training and testing\n",
        "X_train, X_test, y_train, y_test = train_test_split(\n",
        "    # INput features\n",
        "    X,\n",
        "    # Taget labels\n",
        "    y,\n",
        "    # 20% of dataset for testing and 80% of dataset for training\n",
        "    test_size=0.2,\n",
        "    random_state=42,\n",
        "    stratify=y\n",
        ")\n",
        "\n",
        "# printing no. of samplse in training set\n",
        "print(\"Size of Trainting set: \", X_train.shape[0])\n",
        "\n",
        "# printing no. of samplse in testing set\n",
        "print(\"Size of Testing set: \", X_test.shape[0])"
      ],
      "metadata": {
        "colab": {
          "base_uri": "https://localhost:8080/"
        },
        "id": "T_qL55yozp31",
        "outputId": "8ac23d99-a172-443d-e6ec-d7b0effae91e"
      },
      "execution_count": 4,
      "outputs": [
        {
          "output_type": "stream",
          "name": "stdout",
          "text": [
            "Size of Trainting set:  4400\n",
            "Size of Testing set:  1100\n"
          ]
        }
      ]
    },
    {
      "cell_type": "markdown",
      "source": [
        "### <font color = \"orange\">Q4. Scale the features of the dataset appropriately such that all the features take values in the same range."
      ],
      "metadata": {
        "id": "ybhxyMaT0nVW"
      }
    },
    {
      "cell_type": "code",
      "source": [
        "# creating MinMaxScaler object to scale features in range of 0 to 1\n",
        "scalar = MinMaxScaler()\n",
        "\n",
        "# fit that scaler on training data and transorm\n",
        "ScaledX_train = scalar.fit_transform(X_train)\n",
        "\n",
        "# using that scalar to transform test data\n",
        "ScaledX_test = scalar.transform(X_test)\n",
        "\n",
        "# printing some rows and cols of original training data\n",
        "print(\"Before scalaing: \")\n",
        "print(X_train.iloc[0:3, 0:5])\n",
        "\n",
        "# printing some rows and cols after scaling training data\n",
        "print(\"After scalaing: \")\n",
        "print(ScaledX_train[0:3, 0:5])"
      ],
      "metadata": {
        "colab": {
          "base_uri": "https://localhost:8080/"
        },
        "id": "RA9fpf700KDl",
        "outputId": "8381dc82-7090-4d67-8df6-c82c65da711d"
      },
      "execution_count": 5,
      "outputs": [
        {
          "output_type": "stream",
          "name": "stdout",
          "text": [
            "Before scalaing: \n",
            "         V1     V2     V3     V4     V5\n",
            "5040 -1.213 -0.504 -0.566 -0.261 -0.216\n",
            "2952 -0.920 -0.448 -0.497 -0.390 -0.378\n",
            "895  -1.218 -0.682 -0.637 -0.506 -0.354\n",
            "After scalaing: \n",
            "[[0.10656475 0.45490196 0.44981862 0.5        0.56099196]\n",
            " [0.23830935 0.49150327 0.49153567 0.42402827 0.45241287]\n",
            " [0.10431655 0.33856209 0.40689238 0.3557126  0.46849866]]\n"
          ]
        }
      ]
    },
    {
      "cell_type": "markdown",
      "source": [
        "### <font color = \"orange\">Q5. Design a Gaussian Naive Bayes’ (NB) classifier and fit it on the training set"
      ],
      "metadata": {
        "id": "Q45CRciB1gPJ"
      }
    },
    {
      "cell_type": "code",
      "source": [
        "# creating custom Gaussian Naive Bayes classifier class\n",
        "class GaussianNaiveBayesFromScratch:\n",
        "    # fit is is training function\n",
        "    def fit(self, X, y):\n",
        "        # taking unique class labels\n",
        "        self.classes = np.unique(y)\n",
        "\n",
        "        # a dictionary parameter to store mean variance, etc... for each class\n",
        "        self.parameters = {}\n",
        "\n",
        "        # for each class compouting mean, variance and prior probability\n",
        "        for c in self.classes:\n",
        "\n",
        "            # selecting all rows  which belongs to class 'c'\n",
        "            X_c = X[y == c]\n",
        "\n",
        "            # storing mean variance probability for each feature\n",
        "            self.parameters[c] = {\n",
        "                # mean of each feature\n",
        "                \"mean\": X_c.mean(axis=0),\n",
        "\n",
        "                # variance of each feature\n",
        "                \"var\": X_c.var(axis=0),\n",
        "                \"prior\": X_c.shape[0] / X.shape[0]\n",
        "            }\n",
        "\n",
        "    # probability density function for guassian distribution\n",
        "    def probabilityDensityFunction(self, classIndex, x):\n",
        "\n",
        "        # mean of the class of given class index\n",
        "        mean = self.parameters[classIndex][\"mean\"]\n",
        "\n",
        "        # variance of the class of given class index\n",
        "        var = self.parameters[classIndex][\"var\"]\n",
        "\n",
        "        # gaussian formula\n",
        "        numerator = np.exp(- (x - mean) ** 2 / (2 * var + 1e-9))\n",
        "        denominator = np.sqrt(2 * np.pi * var + 1e-9)\n",
        "        return numerator / denominator\n",
        "\n",
        "    # prediction function\n",
        "    def predict(self, X):\n",
        "\n",
        "        # storing the pedicted calsses\n",
        "        y_predictClass = []\n",
        "        for x in X:\n",
        "            # the list to store posterior prob of each class\n",
        "            posteriors = []\n",
        "            for c in self.classes:\n",
        "\n",
        "                # log of the prior\n",
        "                prior = np.log(self.parameters[c][\"prior\"])\n",
        "\n",
        "                # log of the likelihood\n",
        "                conditional = np.sum(np.log(self.probabilityDensityFunction(c, x)))\n",
        "\n",
        "                # log of the posterior\n",
        "                posterior = prior + conditional\n",
        "                posteriors.append(posterior)\n",
        "\n",
        "            # getting class of highest posterior prob\n",
        "            y_predictClass.append(self.classes[np.argmax(posteriors)])\n",
        "        return np.array(y_predictClass)\n",
        "\n",
        "\n",
        "# Train scratch Naice Bayes model\n",
        "scratchNaiveBayes = GaussianNaiveBayesFromScratch()\n",
        "scratchNaiveBayes.fit(ScaledX_train, y_train)\n",
        "\n",
        "print(\"Custom Gaussian Naive Bayes model trained successfully.\")"
      ],
      "metadata": {
        "colab": {
          "base_uri": "https://localhost:8080/"
        },
        "id": "NSueRka51FEC",
        "outputId": "b3a83470-f39e-49dc-975c-b12bc2efae9a"
      },
      "execution_count": 6,
      "outputs": [
        {
          "output_type": "stream",
          "name": "stdout",
          "text": [
            "Custom Gaussian Naive Bayes model trained successfully.\n"
          ]
        }
      ]
    },
    {
      "cell_type": "markdown",
      "source": [
        "### <font color = \"orange\">Q6. Evaluate the test set using the Gaussian NB classifier you learned from the training data and report the performance in terms of accuracy, precision, recall and confusion matrix."
      ],
      "metadata": {
        "id": "rXTrbgaArZWV"
      }
    },
    {
      "cell_type": "code",
      "source": [
        "# Predict labels for test using custom Naive Batest model\n",
        "yPredScratch = scratchNaiveBayes.predict(ScaledX_test)\n",
        "\n",
        "# Calculate accuracy\n",
        "AccuracyScratch = accuracy_score(y_test, yPredScratch)\n",
        "\n",
        "# Calculate precision\n",
        "precisionScratch = precision_score(y_test, yPredScratch, average='weighted')\n",
        "\n",
        "# Calculate recall\n",
        "recallScratch = recall_score(y_test, yPredScratch, average='weighted')\n",
        "\n",
        "# Calculate confuion matrix\n",
        "confusionMatrixScratch = confusion_matrix(y_test, yPredScratch)\n",
        "\n",
        "\n",
        "# printing results\n",
        "print(\"Custom Gaussian NB Evaluation\")\n",
        "print(\"Accuracy:\", AccuracyScratch)\n",
        "print(\"Precision (weighted):\", precisionScratch)\n",
        "print(\"Recall (weighted):\", recallScratch)\n",
        "print(\"\\nConfusion Matrix:\\n\", confusionMatrixScratch)\n",
        "\n",
        "# more report with detail\n",
        "print(\"\\nClassification Report:\\n\", classification_report(y_test, yPredScratch))\n"
      ],
      "metadata": {
        "colab": {
          "base_uri": "https://localhost:8080/"
        },
        "id": "DwArGpMt1LgU",
        "outputId": "e0fcd814-2212-4d59-a76c-7472b153f609"
      },
      "execution_count": 7,
      "outputs": [
        {
          "output_type": "stream",
          "name": "stdout",
          "text": [
            "Custom Gaussian NB Evaluation\n",
            "Accuracy: 0.7618181818181818\n",
            "Precision (weighted): 0.7618288932963438\n",
            "Recall (weighted): 0.7618181818181818\n",
            "\n",
            "Confusion Matrix:\n",
            " [[47 10  0  0  0 10  0  0  0 33  0]\n",
            " [18 52  6  0  0 20  0  2  0  2  0]\n",
            " [ 2  8 58  0  0  5 15  8  4  0  0]\n",
            " [ 0  0  1 96  0  0  3  0  0  0  0]\n",
            " [ 0  1  0  0 99  0  0  0  0  0  0]\n",
            " [10  6  0  0  2 62  1 16  0  3  0]\n",
            " [ 0  1 10  0  0  4 72  4  9  0  0]\n",
            " [ 2  0  3  1  0 15 10 68  1  0  0]\n",
            " [ 0  0  1  0  0  0  5  0 94  0  0]\n",
            " [ 1  0  4  0  0  4  0  0  0 91  0]\n",
            " [ 0  0  1  0  0  0  0  0  0  0 99]]\n",
            "\n",
            "Classification Report:\n",
            "               precision    recall  f1-score   support\n",
            "\n",
            "           1       0.59      0.47      0.52       100\n",
            "          10       0.67      0.52      0.58       100\n",
            "          11       0.69      0.58      0.63       100\n",
            "           2       0.99      0.96      0.97       100\n",
            "           3       0.98      0.99      0.99       100\n",
            "           4       0.52      0.62      0.56       100\n",
            "           5       0.68      0.72      0.70       100\n",
            "           6       0.69      0.68      0.69       100\n",
            "           7       0.87      0.94      0.90       100\n",
            "           8       0.71      0.91      0.79       100\n",
            "           9       1.00      0.99      0.99       100\n",
            "\n",
            "    accuracy                           0.76      1100\n",
            "   macro avg       0.76      0.76      0.76      1100\n",
            "weighted avg       0.76      0.76      0.76      1100\n",
            "\n"
          ]
        }
      ]
    },
    {
      "cell_type": "markdown",
      "source": [
        "### <font color = \"orange\">Q7. Using scikit-learn's implementation of Gaussian NB classifier, fit the training data."
      ],
      "metadata": {
        "id": "kfSqcKkUsiFh"
      }
    },
    {
      "cell_type": "code",
      "source": [
        "from sklearn.naive_bayes import GaussianNB\n",
        "\n",
        "# Initialize scikit-learn Gaussian Naive Bayes model\n",
        "scikitlNaiveBayes = GaussianNB()\n",
        "\n",
        "# Training (fit) model on scaled training data\n",
        "scikitlNaiveBayes.fit(ScaledX_train, y_train)\n",
        "\n",
        "print(\"Scikit-learn GaussianNB model trained successfully.\")"
      ],
      "metadata": {
        "colab": {
          "base_uri": "https://localhost:8080/"
        },
        "id": "lUlj3e2ysfM5",
        "outputId": "cbac171d-d3e1-4364-8804-3ea6a337f5f0"
      },
      "execution_count": 8,
      "outputs": [
        {
          "output_type": "stream",
          "name": "stdout",
          "text": [
            "Scikit-learn GaussianNB model trained successfully.\n"
          ]
        }
      ]
    },
    {
      "cell_type": "markdown",
      "source": [
        "### <font color=\"orange\">Q8. Evaluate the scikit-learn's Gaussian NB model on the test set. How does the performance of this model compare with your custom implementation?"
      ],
      "metadata": {
        "id": "NSMlQamGsysb"
      }
    },
    {
      "cell_type": "code",
      "source": [
        "# Predicting class labels for test set using sklearn Naive Bayes model\n",
        "yPredScikitl = scikitlNaiveBayes.predict(ScaledX_test)\n",
        "\n",
        "# Calculate accuracy\n",
        "accuracyScikitl = accuracy_score(y_test, yPredScikitl)\n",
        "\n",
        "# Calculate precision\n",
        "precisionScikitl = precision_score(y_test, yPredScikitl, average='weighted')\n",
        "\n",
        "# Calculate recall\n",
        "recallScikitl = recall_score(y_test, yPredScikitl, average='weighted')\n",
        "\n",
        "# Calculate Confusion matrix\n",
        "confusionMatrixScikitl = confusion_matrix(y_test, yPredScikitl)\n",
        "\n",
        "# printing results of sklearn Naive Bayes model\n",
        "print(\"Scikit-learn GaussianNB Evaluation\")\n",
        "print(\"Accuracy:\", accuracyScikitl)\n",
        "print(\"Precision:\", precisionScikitl)\n",
        "print(\"Recall:\", recallScikitl)\n",
        "print(\"\\nConfusion Matrix:\\n\", confusionMatrixScikitl)\n",
        "\n",
        "# Comparison\n",
        "print(\"\\nFinal Comparison\")\n",
        "print(\"Custom Naive Bayes Accuracy:\", AccuracyScratch, \"-- Sklearn Naive Bayes Accuracy:\", accuracyScikitl)\n",
        "print(\"Custom Naive Bayes Precision:\", precisionScratch, \"-- Sklearn Naive Bayes Precision:\", precisionScikitl)\n",
        "print(\"Custom Naive Bayes Recall:\", recallScratch, \"-- Sklearn Naive Bayes Recall:\", recallScikitl)\n"
      ],
      "metadata": {
        "colab": {
          "base_uri": "https://localhost:8080/"
        },
        "id": "JgRqxgR-sxTz",
        "outputId": "8a5cccd2-6b69-408f-e0b3-f8a3bade8c62"
      },
      "execution_count": 9,
      "outputs": [
        {
          "output_type": "stream",
          "name": "stdout",
          "text": [
            "Scikit-learn GaussianNB Evaluation\n",
            "Accuracy: 0.7618181818181818\n",
            "Precision: 0.7618288932963438\n",
            "Recall: 0.7618181818181818\n",
            "\n",
            "Confusion Matrix:\n",
            " [[47 10  0  0  0 10  0  0  0 33  0]\n",
            " [18 52  6  0  0 20  0  2  0  2  0]\n",
            " [ 2  8 58  0  0  5 15  8  4  0  0]\n",
            " [ 0  0  1 96  0  0  3  0  0  0  0]\n",
            " [ 0  1  0  0 99  0  0  0  0  0  0]\n",
            " [10  6  0  0  2 62  1 16  0  3  0]\n",
            " [ 0  1 10  0  0  4 72  4  9  0  0]\n",
            " [ 2  0  3  1  0 15 10 68  1  0  0]\n",
            " [ 0  0  1  0  0  0  5  0 94  0  0]\n",
            " [ 1  0  4  0  0  4  0  0  0 91  0]\n",
            " [ 0  0  1  0  0  0  0  0  0  0 99]]\n",
            "\n",
            "Final Comparison\n",
            "Custom Naive Bayes Accuracy: 0.7618181818181818 -- Sklearn Naive Bayes Accuracy: 0.7618181818181818\n",
            "Custom Naive Bayes Precision: 0.7618288932963438 -- Sklearn Naive Bayes Precision: 0.7618288932963438\n",
            "Custom Naive Bayes Recall: 0.7618181818181818 -- Sklearn Naive Bayes Recall: 0.7618181818181818\n"
          ]
        }
      ]
    }
  ]
}